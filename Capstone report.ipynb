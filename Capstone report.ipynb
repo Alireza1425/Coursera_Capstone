{
    "cells": [
        {
            "metadata": {
                "collapsed": true
            },
            "cell_type": "markdown",
            "source": "# A description of the problem:  \nSeveral investors are planning to open a mexican buffet in Oklahoma City.  \nTheir main concern is the location.  \nObviously, in order to achieve high revenue, they are trying to attract more customers by choosing the best location.  \nTheir priorities are:  \n1. The location should be close to a shopping center.\n2. The location should be as far as possible from other restaurants especially other buffets.\n3. The location should not be in the downtown due to the high price and traffic.\n4. Other venues in the visinity of the location would be a plus.\n\n\n# A description of the data:\nThe main tool in order to extract the venues details will be the Foursquare location data as required.  \n1. I will start with the main shopping centers in Oklahoma City as the desired locations.\n2. I will extract all venues in the vicity of the desired locations.\n3. Then dividing the venues in two categories: negative and positive.\n4. The goal is to find a location near the shopping centers to have the highest numbers of positives and lowest number of negatives.\n5. The short distance from shopping centers is another positive point.\n7. I will use weights to address the priorities.For example, buffets will have higher negative points than other types of resturants.\n8. If several locations were found to be similar, I will use the neighborhood property pricings and population to make the final decision.\n9. Folium library will be used to visualize the necessary details .\n\n\n"
        },
        {
            "metadata": {},
            "cell_type": "code",
            "source": "",
            "execution_count": null,
            "outputs": []
        }
    ],
    "metadata": {
        "kernelspec": {
            "name": "python3",
            "display_name": "Python 3.7",
            "language": "python"
        },
        "language_info": {
            "name": "python",
            "version": "3.7.9",
            "mimetype": "text/x-python",
            "codemirror_mode": {
                "name": "ipython",
                "version": 3
            },
            "pygments_lexer": "ipython3",
            "nbconvert_exporter": "python",
            "file_extension": ".py"
        }
    },
    "nbformat": 4,
    "nbformat_minor": 1
}