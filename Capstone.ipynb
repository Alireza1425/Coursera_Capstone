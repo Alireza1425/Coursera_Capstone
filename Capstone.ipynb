{
 "cells": [
  {
   "cell_type": "code",
   "execution_count": 194,
   "metadata": {},
   "outputs": [],
   "source": [
    "#importing relevant libraries\n",
    "import numpy as np\n",
    "import pandas as pd \n",
    "pd.set_option('display.max_columns', None)\n",
    "pd.set_option('display.max_rows', None)\n",
    "from geopy.geocoders import Nominatim \n",
    "import requests\n",
    "import matplotlib.cm as cm\n",
    "import matplotlib.colors as colors\n",
    "import folium\n",
    "import json"
   ]
  },
  {
   "cell_type": "markdown",
   "metadata": {},
   "source": [
    "A list of 6 major shopping centers in Oklahoma City"
   ]
  },
  {
   "cell_type": "code",
   "execution_count": 57,
   "metadata": {},
   "outputs": [],
   "source": [
    "Mall=['Penn Square Mall', 'Quail Springs Mall', 'OKC Outlets', 'Quail Plaza Shopping Center', 'Penn Park Shopping Center',\\\n",
    "      'Midwest City Town Center Plaza']"
   ]
  },
  {
   "cell_type": "markdown",
   "metadata": {},
   "source": [
    "Creating a dataframe with the names and Coordinates of the shopping centers"
   ]
  },
  {
   "cell_type": "code",
   "execution_count": 58,
   "metadata": {},
   "outputs": [],
   "source": [
    "Malls = pd.DataFrame(columns = ['Name', 'lat', 'long'], index= range(6)) "
   ]
  },
  {
   "cell_type": "code",
   "execution_count": 59,
   "metadata": {},
   "outputs": [],
   "source": [
    "for i, mall in enumerate(Mall):\n",
    "    \n",
    "    Address=mall+' ,Oklahoma City, OK'\n",
    "    geolocator = Nominatim(user_agent=\"ny_explorer\")\n",
    "    location = geolocator.geocode(Address)\n",
    "    latitude = location.latitude\n",
    "    longitude = location.longitude\n",
    "    Malls.iloc[i]=[mall, latitude, longitude]\n",
    "    "
   ]
  },
  {
   "cell_type": "code",
   "execution_count": 60,
   "metadata": {},
   "outputs": [
    {
     "data": {
      "text/html": [
       "<div>\n",
       "<style scoped>\n",
       "    .dataframe tbody tr th:only-of-type {\n",
       "        vertical-align: middle;\n",
       "    }\n",
       "\n",
       "    .dataframe tbody tr th {\n",
       "        vertical-align: top;\n",
       "    }\n",
       "\n",
       "    .dataframe thead th {\n",
       "        text-align: right;\n",
       "    }\n",
       "</style>\n",
       "<table border=\"1\" class=\"dataframe\">\n",
       "  <thead>\n",
       "    <tr style=\"text-align: right;\">\n",
       "      <th></th>\n",
       "      <th>Name</th>\n",
       "      <th>lat</th>\n",
       "      <th>long</th>\n",
       "    </tr>\n",
       "  </thead>\n",
       "  <tbody>\n",
       "    <tr>\n",
       "      <th>0</th>\n",
       "      <td>Penn Square Mall</td>\n",
       "      <td>35.5252</td>\n",
       "      <td>-97.5449</td>\n",
       "    </tr>\n",
       "    <tr>\n",
       "      <th>1</th>\n",
       "      <td>Quail Springs Mall</td>\n",
       "      <td>35.613</td>\n",
       "      <td>-97.5583</td>\n",
       "    </tr>\n",
       "    <tr>\n",
       "      <th>2</th>\n",
       "      <td>OKC Outlets</td>\n",
       "      <td>35.4622</td>\n",
       "      <td>-97.6485</td>\n",
       "    </tr>\n",
       "    <tr>\n",
       "      <th>3</th>\n",
       "      <td>Quail Plaza Shopping Center</td>\n",
       "      <td>35.5816</td>\n",
       "      <td>-97.566</td>\n",
       "    </tr>\n",
       "    <tr>\n",
       "      <th>4</th>\n",
       "      <td>Penn Park Shopping Center</td>\n",
       "      <td>35.3927</td>\n",
       "      <td>-97.5434</td>\n",
       "    </tr>\n",
       "    <tr>\n",
       "      <th>5</th>\n",
       "      <td>Midwest City Town Center Plaza</td>\n",
       "      <td>35.4495</td>\n",
       "      <td>-97.3967</td>\n",
       "    </tr>\n",
       "  </tbody>\n",
       "</table>\n",
       "</div>"
      ],
      "text/plain": [
       "                             Name      lat     long\n",
       "0                Penn Square Mall  35.5252 -97.5449\n",
       "1              Quail Springs Mall   35.613 -97.5583\n",
       "2                     OKC Outlets  35.4622 -97.6485\n",
       "3     Quail Plaza Shopping Center  35.5816  -97.566\n",
       "4       Penn Park Shopping Center  35.3927 -97.5434\n",
       "5  Midwest City Town Center Plaza  35.4495 -97.3967"
      ]
     },
     "execution_count": 60,
     "metadata": {},
     "output_type": "execute_result"
    }
   ],
   "source": [
    "Malls"
   ]
  },
  {
   "cell_type": "markdown",
   "metadata": {},
   "source": [
    "Initializing the map around Oklahoma city"
   ]
  },
  {
   "cell_type": "code",
   "execution_count": 61,
   "metadata": {},
   "outputs": [
    {
     "name": "stdout",
     "output_type": "stream",
     "text": [
      "The geograpical coordinate are 35.4729886, -97.5170536.\n"
     ]
    }
   ],
   "source": [
    "address = 'Oklahoma City, OK'\n",
    "\n",
    "geolocator = Nominatim(user_agent=\"ny_explorer\")\n",
    "location = geolocator.geocode(address)\n",
    "latitude = location.latitude\n",
    "longitude = location.longitude\n",
    "print('The geograpical coordinate are {}, {}.'.format(latitude, longitude))"
   ]
  },
  {
   "cell_type": "markdown",
   "metadata": {},
   "source": [
    "Labeling the map with the shopping centers by blue dots"
   ]
  },
  {
   "cell_type": "code",
   "execution_count": 196,
   "metadata": {},
   "outputs": [
    {
     "data": {
      "text/html": [
       "<div style=\"width:100%;\"><div style=\"position:relative;width:100%;height:0;padding-bottom:60%;\"><span style=\"color:#565656\">Make this Notebook Trusted to load map: File -> Trust Notebook</span><iframe src=\"about:blank\" style=\"position:absolute;width:100%;height:100%;left:0;top:0;border:none !important;\" data-html=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 onload=\"this.contentDocument.open();this.contentDocument.write(atob(this.getAttribute('data-html')));this.contentDocument.close();\" allowfullscreen webkitallowfullscreen mozallowfullscreen></iframe></div></div>"
      ],
      "text/plain": [
       "<folium.folium.Map at 0x7fc95edbc070>"
      ]
     },
     "execution_count": 196,
     "metadata": {},
     "output_type": "execute_result"
    }
   ],
   "source": [
    "map_OK = folium.Map(location=[latitude, longitude], zoom_start=10)\n",
    "\n",
    "for Name, lat, lng in zip(Malls['Name'], Malls['lat'], Malls['long']):\n",
    "    label = '{}'.format(Name)\n",
    "    label = folium.Popup(label, parse_html=True)\n",
    "    folium.CircleMarker(\n",
    "        [lat, lng],\n",
    "        radius=5,\n",
    "        popup=label,\n",
    "        color='blue',\n",
    "        fill=True,\n",
    "        fill_color='blue',\n",
    "        fill_opacity=1,\n",
    "        parse_html=False).add_to(map_OK)  \n",
    "\n",
    "    \n",
    "map_OK"
   ]
  },
  {
   "cell_type": "markdown",
   "metadata": {},
   "source": [
    "<span style='color:Red'> Github does not show the maps, the screenshots are in my report. </span>"
   ]
  },
  {
   "cell_type": "markdown",
   "metadata": {},
   "source": [
    "The information for my Foursquare account:"
   ]
  },
  {
   "cell_type": "code",
   "execution_count": 177,
   "metadata": {},
   "outputs": [],
   "source": [
    "CLIENT_ID = '033E3WCFZBFOMPDT044NJPZVIZGPFGPBC2MCYF4CDNY43H4J' \n",
    "CLIENT_SECRET = 'DNKJR3QUX3TFMG5W0M3ORY0VNI1VOVFXMAQJNCSARU5CCHO1'\n",
    "VERSION = '20180605'\n",
    "LIMIT = 100 "
   ]
  },
  {
   "cell_type": "markdown",
   "metadata": {},
   "source": [
    "Creating a function to creat a dataframe from the explored venues:"
   ]
  },
  {
   "cell_type": "code",
   "execution_count": 178,
   "metadata": {},
   "outputs": [],
   "source": [
    "def getNearbyVenues(names, latitudes, longitudes, radius=750):\n",
    "    \n",
    "    venues_list=[]\n",
    "    for name, lat, lng in zip(names, latitudes, longitudes):\n",
    "        print(name)\n",
    "            \n",
    "        # create the API request URL\n",
    "        url = 'https://api.foursquare.com/v2/venues/explore?&client_id={}&client_secret={}&v={}&ll={},{}&radius={}&limit={}'.format(\n",
    "            CLIENT_ID, \n",
    "            CLIENT_SECRET, \n",
    "            VERSION, \n",
    "            lat, \n",
    "            lng, \n",
    "            radius, \n",
    "            LIMIT)\n",
    "            \n",
    "        # make the GET request\n",
    "        results = requests.get(url).json()[\"response\"]['groups'][0]['items']\n",
    "        \n",
    "        # return only relevant information for each nearby venue\n",
    "        venues_list.append([(\n",
    "            name, \n",
    "            lat, \n",
    "            lng, \n",
    "            v['venue']['name'], \n",
    "            v['venue']['location']['lat'], \n",
    "            v['venue']['location']['lng'],  \n",
    "            v['venue']['categories'][0]['name']) for v in results])\n",
    "\n",
    "    nearby_venues = pd.DataFrame([item for venue_list in venues_list for item in venue_list])\n",
    "    nearby_venues.columns = ['Neighborhood', \n",
    "                  'Neighborhood Latitude', \n",
    "                  'Neighborhood Longitude', \n",
    "                  'Venue', \n",
    "                  'Venue Latitude', \n",
    "                  'Venue Longitude', \n",
    "                  'Venue Category']\n",
    "   # print(venues_list)\n",
    "    \n",
    "    return(nearby_venues)"
   ]
  },
  {
   "cell_type": "markdown",
   "metadata": {},
   "source": [
    "Using the function above to create the OK_venues dataframe with all the venues"
   ]
  },
  {
   "cell_type": "code",
   "execution_count": 179,
   "metadata": {},
   "outputs": [
    {
     "name": "stdout",
     "output_type": "stream",
     "text": [
      "Penn Square Mall\n",
      "Quail Springs Mall\n",
      "OKC Outlets\n",
      "Quail Plaza Shopping Center\n",
      "Penn Park Shopping Center\n",
      "Midwest City Town Center Plaza\n"
     ]
    }
   ],
   "source": [
    "OK_venues = getNearbyVenues(names=Malls['Name'],\n",
    "                                   latitudes=Malls['lat'],\n",
    "                                   longitudes=Malls['long']\n",
    "                                  )"
   ]
  },
  {
   "cell_type": "code",
   "execution_count": 180,
   "metadata": {},
   "outputs": [
    {
     "data": {
      "text/html": [
       "<div>\n",
       "<style scoped>\n",
       "    .dataframe tbody tr th:only-of-type {\n",
       "        vertical-align: middle;\n",
       "    }\n",
       "\n",
       "    .dataframe tbody tr th {\n",
       "        vertical-align: top;\n",
       "    }\n",
       "\n",
       "    .dataframe thead th {\n",
       "        text-align: right;\n",
       "    }\n",
       "</style>\n",
       "<table border=\"1\" class=\"dataframe\">\n",
       "  <thead>\n",
       "    <tr style=\"text-align: right;\">\n",
       "      <th></th>\n",
       "      <th>Neighborhood</th>\n",
       "      <th>Neighborhood Latitude</th>\n",
       "      <th>Neighborhood Longitude</th>\n",
       "      <th>Venue</th>\n",
       "      <th>Venue Latitude</th>\n",
       "      <th>Venue Longitude</th>\n",
       "      <th>Venue Category</th>\n",
       "    </tr>\n",
       "  </thead>\n",
       "  <tbody>\n",
       "    <tr>\n",
       "      <th>0</th>\n",
       "      <td>Penn Square Mall</td>\n",
       "      <td>35.525154</td>\n",
       "      <td>-97.544939</td>\n",
       "      <td>The Cheesecake Factory</td>\n",
       "      <td>35.526045</td>\n",
       "      <td>-97.547048</td>\n",
       "      <td>American Restaurant</td>\n",
       "    </tr>\n",
       "    <tr>\n",
       "      <th>1</th>\n",
       "      <td>Penn Square Mall</td>\n",
       "      <td>35.525154</td>\n",
       "      <td>-97.544939</td>\n",
       "      <td>AMC Penn Square 10</td>\n",
       "      <td>35.524933</td>\n",
       "      <td>-97.543753</td>\n",
       "      <td>Movie Theater</td>\n",
       "    </tr>\n",
       "    <tr>\n",
       "      <th>2</th>\n",
       "      <td>Penn Square Mall</td>\n",
       "      <td>35.525154</td>\n",
       "      <td>-97.544939</td>\n",
       "      <td>Lush</td>\n",
       "      <td>35.525016</td>\n",
       "      <td>-97.545810</td>\n",
       "      <td>Cosmetics Shop</td>\n",
       "    </tr>\n",
       "    <tr>\n",
       "      <th>3</th>\n",
       "      <td>Penn Square Mall</td>\n",
       "      <td>35.525154</td>\n",
       "      <td>-97.544939</td>\n",
       "      <td>Lolli and Pops</td>\n",
       "      <td>35.524887</td>\n",
       "      <td>-97.545675</td>\n",
       "      <td>Dessert Shop</td>\n",
       "    </tr>\n",
       "    <tr>\n",
       "      <th>4</th>\n",
       "      <td>Penn Square Mall</td>\n",
       "      <td>35.525154</td>\n",
       "      <td>-97.544939</td>\n",
       "      <td>BC Clark Jeweler's</td>\n",
       "      <td>35.525332</td>\n",
       "      <td>-97.545500</td>\n",
       "      <td>Jewelry Store</td>\n",
       "    </tr>\n",
       "  </tbody>\n",
       "</table>\n",
       "</div>"
      ],
      "text/plain": [
       "       Neighborhood  Neighborhood Latitude  Neighborhood Longitude  \\\n",
       "0  Penn Square Mall              35.525154              -97.544939   \n",
       "1  Penn Square Mall              35.525154              -97.544939   \n",
       "2  Penn Square Mall              35.525154              -97.544939   \n",
       "3  Penn Square Mall              35.525154              -97.544939   \n",
       "4  Penn Square Mall              35.525154              -97.544939   \n",
       "\n",
       "                    Venue  Venue Latitude  Venue Longitude  \\\n",
       "0  The Cheesecake Factory       35.526045       -97.547048   \n",
       "1      AMC Penn Square 10       35.524933       -97.543753   \n",
       "2                    Lush       35.525016       -97.545810   \n",
       "3          Lolli and Pops       35.524887       -97.545675   \n",
       "4      BC Clark Jeweler's       35.525332       -97.545500   \n",
       "\n",
       "        Venue Category  \n",
       "0  American Restaurant  \n",
       "1        Movie Theater  \n",
       "2       Cosmetics Shop  \n",
       "3         Dessert Shop  \n",
       "4        Jewelry Store  "
      ]
     },
     "execution_count": 180,
     "metadata": {},
     "output_type": "execute_result"
    }
   ],
   "source": [
    "OK_venues.head()"
   ]
  },
  {
   "cell_type": "markdown",
   "metadata": {},
   "source": [
    "Separating all restaurant from the main dataframe:"
   ]
  },
  {
   "cell_type": "code",
   "execution_count": 181,
   "metadata": {},
   "outputs": [],
   "source": [
    "Restaurants=OK_venues[OK_venues['Venue Category'].str.contains('restaurant', case=False)] #['Venue Category'].unique()"
   ]
  },
  {
   "cell_type": "code",
   "execution_count": 182,
   "metadata": {},
   "outputs": [
    {
     "data": {
      "text/html": [
       "<div>\n",
       "<style scoped>\n",
       "    .dataframe tbody tr th:only-of-type {\n",
       "        vertical-align: middle;\n",
       "    }\n",
       "\n",
       "    .dataframe tbody tr th {\n",
       "        vertical-align: top;\n",
       "    }\n",
       "\n",
       "    .dataframe thead th {\n",
       "        text-align: right;\n",
       "    }\n",
       "</style>\n",
       "<table border=\"1\" class=\"dataframe\">\n",
       "  <thead>\n",
       "    <tr style=\"text-align: right;\">\n",
       "      <th></th>\n",
       "      <th>Neighborhood</th>\n",
       "      <th>Neighborhood Latitude</th>\n",
       "      <th>Neighborhood Longitude</th>\n",
       "      <th>Venue</th>\n",
       "      <th>Venue Latitude</th>\n",
       "      <th>Venue Longitude</th>\n",
       "      <th>Venue Category</th>\n",
       "    </tr>\n",
       "  </thead>\n",
       "  <tbody>\n",
       "    <tr>\n",
       "      <th>0</th>\n",
       "      <td>Penn Square Mall</td>\n",
       "      <td>35.525154</td>\n",
       "      <td>-97.544939</td>\n",
       "      <td>The Cheesecake Factory</td>\n",
       "      <td>35.526045</td>\n",
       "      <td>-97.547048</td>\n",
       "      <td>American Restaurant</td>\n",
       "    </tr>\n",
       "    <tr>\n",
       "      <th>10</th>\n",
       "      <td>Penn Square Mall</td>\n",
       "      <td>35.525154</td>\n",
       "      <td>-97.544939</td>\n",
       "      <td>Whiskey Cake Kitchen &amp; Bar</td>\n",
       "      <td>35.523028</td>\n",
       "      <td>-97.543056</td>\n",
       "      <td>New American Restaurant</td>\n",
       "    </tr>\n",
       "    <tr>\n",
       "      <th>19</th>\n",
       "      <td>Penn Square Mall</td>\n",
       "      <td>35.525154</td>\n",
       "      <td>-97.544939</td>\n",
       "      <td>Pepperoni Grill</td>\n",
       "      <td>35.524930</td>\n",
       "      <td>-97.546296</td>\n",
       "      <td>Italian Restaurant</td>\n",
       "    </tr>\n",
       "    <tr>\n",
       "      <th>20</th>\n",
       "      <td>Penn Square Mall</td>\n",
       "      <td>35.525154</td>\n",
       "      <td>-97.544939</td>\n",
       "      <td>Chick-fil-A</td>\n",
       "      <td>35.524343</td>\n",
       "      <td>-97.544426</td>\n",
       "      <td>Fast Food Restaurant</td>\n",
       "    </tr>\n",
       "    <tr>\n",
       "      <th>21</th>\n",
       "      <td>Penn Square Mall</td>\n",
       "      <td>35.525154</td>\n",
       "      <td>-97.544939</td>\n",
       "      <td>Olive Garden</td>\n",
       "      <td>35.521939</td>\n",
       "      <td>-97.544339</td>\n",
       "      <td>Italian Restaurant</td>\n",
       "    </tr>\n",
       "  </tbody>\n",
       "</table>\n",
       "</div>"
      ],
      "text/plain": [
       "        Neighborhood  Neighborhood Latitude  Neighborhood Longitude  \\\n",
       "0   Penn Square Mall              35.525154              -97.544939   \n",
       "10  Penn Square Mall              35.525154              -97.544939   \n",
       "19  Penn Square Mall              35.525154              -97.544939   \n",
       "20  Penn Square Mall              35.525154              -97.544939   \n",
       "21  Penn Square Mall              35.525154              -97.544939   \n",
       "\n",
       "                         Venue  Venue Latitude  Venue Longitude  \\\n",
       "0       The Cheesecake Factory       35.526045       -97.547048   \n",
       "10  Whiskey Cake Kitchen & Bar       35.523028       -97.543056   \n",
       "19             Pepperoni Grill       35.524930       -97.546296   \n",
       "20                 Chick-fil-A       35.524343       -97.544426   \n",
       "21                Olive Garden       35.521939       -97.544339   \n",
       "\n",
       "             Venue Category  \n",
       "0       American Restaurant  \n",
       "10  New American Restaurant  \n",
       "19       Italian Restaurant  \n",
       "20     Fast Food Restaurant  \n",
       "21       Italian Restaurant  "
      ]
     },
     "execution_count": 182,
     "metadata": {},
     "output_type": "execute_result"
    }
   ],
   "source": [
    "Restaurants.head()"
   ]
  },
  {
   "cell_type": "markdown",
   "metadata": {},
   "source": [
    "Separating all buffets from the main dataframe:"
   ]
  },
  {
   "cell_type": "code",
   "execution_count": 183,
   "metadata": {},
   "outputs": [],
   "source": [
    "Buffets=OK_venues[OK_venues['Venue Category'].str.contains('buffet', case=False)]"
   ]
  },
  {
   "cell_type": "code",
   "execution_count": 184,
   "metadata": {},
   "outputs": [
    {
     "data": {
      "text/html": [
       "<div>\n",
       "<style scoped>\n",
       "    .dataframe tbody tr th:only-of-type {\n",
       "        vertical-align: middle;\n",
       "    }\n",
       "\n",
       "    .dataframe tbody tr th {\n",
       "        vertical-align: top;\n",
       "    }\n",
       "\n",
       "    .dataframe thead th {\n",
       "        text-align: right;\n",
       "    }\n",
       "</style>\n",
       "<table border=\"1\" class=\"dataframe\">\n",
       "  <thead>\n",
       "    <tr style=\"text-align: right;\">\n",
       "      <th></th>\n",
       "      <th>Neighborhood</th>\n",
       "      <th>Neighborhood Latitude</th>\n",
       "      <th>Neighborhood Longitude</th>\n",
       "      <th>Venue</th>\n",
       "      <th>Venue Latitude</th>\n",
       "      <th>Venue Longitude</th>\n",
       "      <th>Venue Category</th>\n",
       "    </tr>\n",
       "  </thead>\n",
       "  <tbody>\n",
       "    <tr>\n",
       "      <th>264</th>\n",
       "      <td>Penn Park Shopping Center</td>\n",
       "      <td>35.392682</td>\n",
       "      <td>-97.543365</td>\n",
       "      <td>Golden Corral</td>\n",
       "      <td>35.392292</td>\n",
       "      <td>-97.544133</td>\n",
       "      <td>Buffet</td>\n",
       "    </tr>\n",
       "  </tbody>\n",
       "</table>\n",
       "</div>"
      ],
      "text/plain": [
       "                  Neighborhood  Neighborhood Latitude  Neighborhood Longitude  \\\n",
       "264  Penn Park Shopping Center              35.392682              -97.543365   \n",
       "\n",
       "             Venue  Venue Latitude  Venue Longitude Venue Category  \n",
       "264  Golden Corral       35.392292       -97.544133         Buffet  "
      ]
     },
     "execution_count": 184,
     "metadata": {},
     "output_type": "execute_result"
    }
   ],
   "source": [
    "Buffets.head()"
   ]
  },
  {
   "cell_type": "markdown",
   "metadata": {},
   "source": [
    "Let’s see how many restaurants and buffets we got:"
   ]
  },
  {
   "cell_type": "code",
   "execution_count": 185,
   "metadata": {},
   "outputs": [
    {
     "name": "stdout",
     "output_type": "stream",
     "text": [
      "293,41,1,251\n"
     ]
    }
   ],
   "source": [
    "Total_venues=len(OK_venues.index)\n",
    "Number_of_restaurants=len(Restaurants.index)\n",
    "Number_of_buffets=len(Buffets.index)\n",
    "Number_of_positive_venues=len(OK_venues.index)-Number_of_restaurants-Number_of_buffets\n",
    "print('{},{},{},{}'.format(Total_venues, Number_of_restaurants, Number_of_buffets, Number_of_positive_venues))"
   ]
  },
  {
   "cell_type": "markdown",
   "metadata": {},
   "source": [
    "Total venues are 293  \n",
    "41 restaurant  \n",
    "1 buffet"
   ]
  },
  {
   "cell_type": "markdown",
   "metadata": {},
   "source": [
    "Now lets add all restaurants and buffets to the map.  \n",
    "Restaurant are red dots and buffets are yellow dots."
   ]
  },
  {
   "cell_type": "code",
   "execution_count": 197,
   "metadata": {},
   "outputs": [
    {
     "data": {
      "text/html": [
       "<div style=\"width:100%;\"><div style=\"position:relative;width:100%;height:0;padding-bottom:60%;\"><span style=\"color:#565656\">Make this Notebook Trusted to load map: File -> Trust Notebook</span><iframe src=\"about:blank\" style=\"position:absolute;width:100%;height:100%;left:0;top:0;border:none !important;\" data-html=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 onload=\"this.contentDocument.open();this.contentDocument.write(atob(this.getAttribute('data-html')));this.contentDocument.close();\" allowfullscreen webkitallowfullscreen mozallowfullscreen></iframe></div></div>"
      ],
      "text/plain": [
       "<folium.folium.Map at 0x7fc95edbc070>"
      ]
     },
     "execution_count": 197,
     "metadata": {},
     "output_type": "execute_result"
    }
   ],
   "source": [
    "for Name, lat, lng in zip(Restaurants['Venue'], Restaurants['Venue Latitude'], Restaurants['Venue Longitude']):\n",
    "    label = '{}'.format(Name)\n",
    "    label = folium.Popup(label, parse_html=True)\n",
    "    folium.CircleMarker(\n",
    "        [lat, lng],\n",
    "        radius=3,\n",
    "        popup=label,\n",
    "        color='red',\n",
    "        fill=True,\n",
    "        fill_color='red',\n",
    "        fill_opacity=0.8,\n",
    "        parse_html=False).add_to(map_OK)  \n",
    "\n",
    "for Name, lat, lng in zip(Buffets['Venue'], Buffets['Venue Latitude'], Buffets['Venue Longitude']):\n",
    "    label = '{}'.format(Name)\n",
    "    label = folium.Popup(label, parse_html=True)\n",
    "    folium.CircleMarker(\n",
    "        [lat, lng],\n",
    "        radius=3,\n",
    "        popup=label,\n",
    "        color='yellow',\n",
    "        fill=True,\n",
    "        fill_color='yellow',\n",
    "        fill_opacity=0.8,\n",
    "        parse_html=False).add_to(map_OK)  \n",
    "    \n",
    "map_OK"
   ]
  },
  {
   "cell_type": "markdown",
   "metadata": {},
   "source": [
    "<span style='color:Red'> Github does not show the maps, the screenshots are in my report. </span>"
   ]
  },
  {
   "cell_type": "markdown",
   "metadata": {},
   "source": [
    "Counting the number of restaurants and buffets and other venues to calculate the ratings.  \n",
    "Every restaurant has -2 points  \n",
    "Every buffet has -3 points  \n",
    "Any other venue has +1 point"
   ]
  },
  {
   "cell_type": "code",
   "execution_count": 187,
   "metadata": {},
   "outputs": [],
   "source": [
    "TOT=OK_venues.groupby('Neighborhood').count()[['Venue']]"
   ]
  },
  {
   "cell_type": "code",
   "execution_count": 188,
   "metadata": {},
   "outputs": [],
   "source": [
    "RS=Restaurants.groupby('Neighborhood').count()[['Venue']]"
   ]
  },
  {
   "cell_type": "code",
   "execution_count": 189,
   "metadata": {},
   "outputs": [],
   "source": [
    "BF=Buffets.groupby('Neighborhood').count()[['Venue']]"
   ]
  },
  {
   "cell_type": "code",
   "execution_count": 190,
   "metadata": {},
   "outputs": [],
   "source": [
    "Final=pd.DataFrame(columns = ['Name', 'Restaurants', 'Buffets', 'Other_venues', 'Rating'])"
   ]
  },
  {
   "cell_type": "markdown",
   "metadata": {},
   "source": [
    "Create a table with the ratings:"
   ]
  },
  {
   "cell_type": "code",
   "execution_count": 191,
   "metadata": {},
   "outputs": [],
   "source": [
    "for mall in Mall:\n",
    "    \n",
    "    try: N_O_B= BF.loc[mall, 'Venue']\n",
    "    except: N_O_B=0\n",
    "        \n",
    "    N_O_R=RS.loc[mall, 'Venue']\n",
    "    \n",
    "    N_O_P=TOT.loc[mall, 'Venue']-N_O_B-RS.loc[mall, 'Venue']\n",
    "    \n",
    "    Final=Final.append({'Name': mall,\n",
    "                       'Restaurants':N_O_R,\n",
    "                       'Buffets': N_O_B,\n",
    "                       'Other_venues':N_O_P,\n",
    "                       'Rating':N_O_P-N_O_R*2-N_O_B*3},\n",
    "                       ignore_index=True)"
   ]
  },
  {
   "cell_type": "code",
   "execution_count": 192,
   "metadata": {},
   "outputs": [
    {
     "data": {
      "text/html": [
       "<div>\n",
       "<style scoped>\n",
       "    .dataframe tbody tr th:only-of-type {\n",
       "        vertical-align: middle;\n",
       "    }\n",
       "\n",
       "    .dataframe tbody tr th {\n",
       "        vertical-align: top;\n",
       "    }\n",
       "\n",
       "    .dataframe thead th {\n",
       "        text-align: right;\n",
       "    }\n",
       "</style>\n",
       "<table border=\"1\" class=\"dataframe\">\n",
       "  <thead>\n",
       "    <tr style=\"text-align: right;\">\n",
       "      <th></th>\n",
       "      <th>Name</th>\n",
       "      <th>Restaurants</th>\n",
       "      <th>Buffets</th>\n",
       "      <th>Other_venues</th>\n",
       "      <th>Rating</th>\n",
       "    </tr>\n",
       "  </thead>\n",
       "  <tbody>\n",
       "    <tr>\n",
       "      <th>0</th>\n",
       "      <td>Penn Square Mall</td>\n",
       "      <td>8</td>\n",
       "      <td>0</td>\n",
       "      <td>52</td>\n",
       "      <td>36</td>\n",
       "    </tr>\n",
       "    <tr>\n",
       "      <th>1</th>\n",
       "      <td>Quail Springs Mall</td>\n",
       "      <td>13</td>\n",
       "      <td>0</td>\n",
       "      <td>80</td>\n",
       "      <td>54</td>\n",
       "    </tr>\n",
       "    <tr>\n",
       "      <th>2</th>\n",
       "      <td>OKC Outlets</td>\n",
       "      <td>2</td>\n",
       "      <td>0</td>\n",
       "      <td>52</td>\n",
       "      <td>48</td>\n",
       "    </tr>\n",
       "    <tr>\n",
       "      <th>3</th>\n",
       "      <td>Quail Plaza Shopping Center</td>\n",
       "      <td>7</td>\n",
       "      <td>0</td>\n",
       "      <td>15</td>\n",
       "      <td>1</td>\n",
       "    </tr>\n",
       "    <tr>\n",
       "      <th>4</th>\n",
       "      <td>Penn Park Shopping Center</td>\n",
       "      <td>9</td>\n",
       "      <td>1</td>\n",
       "      <td>35</td>\n",
       "      <td>14</td>\n",
       "    </tr>\n",
       "    <tr>\n",
       "      <th>5</th>\n",
       "      <td>Midwest City Town Center Plaza</td>\n",
       "      <td>2</td>\n",
       "      <td>0</td>\n",
       "      <td>17</td>\n",
       "      <td>13</td>\n",
       "    </tr>\n",
       "  </tbody>\n",
       "</table>\n",
       "</div>"
      ],
      "text/plain": [
       "                             Name Restaurants Buffets Other_venues Rating\n",
       "0                Penn Square Mall           8       0           52     36\n",
       "1              Quail Springs Mall          13       0           80     54\n",
       "2                     OKC Outlets           2       0           52     48\n",
       "3     Quail Plaza Shopping Center           7       0           15      1\n",
       "4       Penn Park Shopping Center           9       1           35     14\n",
       "5  Midwest City Town Center Plaza           2       0           17     13"
      ]
     },
     "execution_count": 192,
     "metadata": {},
     "output_type": "execute_result"
    }
   ],
   "source": [
    "Final"
   ]
  },
  {
   "cell_type": "code",
   "execution_count": null,
   "metadata": {},
   "outputs": [],
   "source": []
  }
 ],
 "metadata": {
  "kernelspec": {
   "display_name": "Python 3",
   "language": "python",
   "name": "python3"
  },
  "language_info": {
   "codemirror_mode": {
    "name": "ipython",
    "version": 3
   },
   "file_extension": ".py",
   "mimetype": "text/x-python",
   "name": "python",
   "nbconvert_exporter": "python",
   "pygments_lexer": "ipython3",
   "version": "3.8.3"
  }
 },
 "nbformat": 4,
 "nbformat_minor": 4
}
